{
 "cells": [
  {
   "cell_type": "markdown",
   "metadata": {},
   "source": [
    "# Tic Tac Toe\n",
    "## Game of Tic Tac Toe for 2 People:\n",
    "- 2 players should be able to play the game (both sitting at the same computer)\n",
    "- The board should be printed out every time a player makes a move\n",
    "- You should be able to accept input of the player position and then place a symbol on the board\n"
   ]
  },
  {
   "cell_type": "code",
   "execution_count": 1,
   "metadata": {},
   "outputs": [],
   "source": [
    "from IPython.display import clear_output"
   ]
  },
  {
   "cell_type": "code",
   "execution_count": 2,
   "metadata": {},
   "outputs": [],
   "source": [
    "turnnumber = 0\n",
    "board = [\" \"]*9\n",
    "freespots = list(range(1,10))"
   ]
  },
  {
   "cell_type": "code",
   "execution_count": 3,
   "metadata": {},
   "outputs": [],
   "source": [
    "def startgame():\n",
    "    global turnnumber\n",
    "    global board\n",
    "    global freespots\n",
    "    turnnumber = 0\n",
    "    board = [\" \"]*9\n",
    "    freespots = list(range(1,10))\n",
    "    \n",
    "    displayboard(board)\n",
    "    player1 = input('Player 1, pick a marker \\\"X\\\" or \\\"O\\\": ').upper()\n",
    "    if player1 != \"X\" and player1 !=\"O\":\n",
    "        print(\"Error: please pick \\\"X\\\" or \\\"O\\\".\")\n",
    "        startgame()\n",
    "    player2 = \"X\" if player1==\"O\" else \"O\"\n",
    "    displayboard(board)\n",
    "    editboard(player1, player2, board)"
   ]
  },
  {
   "cell_type": "code",
   "execution_count": 4,
   "metadata": {},
   "outputs": [],
   "source": [
    "def displayboard(board):\n",
    "    '''\n",
    "    Clears the last board state and prints out the current board state\n",
    "    Input: board list\n",
    "    Output: prints out board\n",
    "    '''\n",
    "    clear_output()\n",
    "    print(\"\")\n",
    "    print(' {} | {} | {} '.format(board[6], board[7], board[8]))\n",
    "    print('-----------')\n",
    "    print(' {} | {} | {} '.format(board[3], board[4], board[5]))\n",
    "    print('-----------')\n",
    "    print(' {} | {} | {} '.format(board[0], board[1], board[2]))\n",
    "    print(\"\")\n"
   ]
  },
  {
   "cell_type": "code",
   "execution_count": 5,
   "metadata": {},
   "outputs": [],
   "source": [
    "def editboard(player1, player2, board):\n",
    "    '''\n",
    "    Edits the board by calling upon getposition and assigning position to board. Calls upon displayboard to display board.\n",
    "    Input: player1 (str), player2 (str), board (list)\n",
    "    '''\n",
    "    global turnnumber\n",
    "    position = getposition()\n",
    "    \n",
    "    if position in freespots:\n",
    "        board[position-1] = player1 if turnnumber%2==0 else player2\n",
    "        freespots.remove(position)\n",
    "        turnnumber += 1\n",
    "    elif position > 9:\n",
    "        print(\"\\nThat position does not exist! Choose another position.\\n\")\n",
    "    else:\n",
    "        print(\"\\nThat position is already filled! Choose another position.\\n\")\n",
    "        editboard(player1,player2, board)\n",
    "    \n",
    "    print(turnnumber)\n",
    "    displayboard(board)\n",
    "    checkwin(player1, player2, board)\n",
    "    checkfull(board)\n",
    "    editboard(player1,player2, board)"
   ]
  },
  {
   "cell_type": "code",
   "execution_count": 6,
   "metadata": {},
   "outputs": [],
   "source": [
    "def getposition():\n",
    "    '''\n",
    "    Prompts user to enter the position they would like to fill.\n",
    "    Input: None\n",
    "    Output: Position (int)\n",
    "    '''\n",
    "    player = \"Player 1\" if turnnumber%2==0 else \"Player 2\"\n",
    "    print(f\"It is {player}\\'s turn.\")\n",
    "    position = input(\"Please enter your next numerical position: \")\n",
    "   \n",
    "    try:\n",
    "        return int(position)\n",
    "    \n",
    "    except:\n",
    "        print(\"\\nError: Please enter a numerical value.\\n\")\n",
    "        return getposition()\n"
   ]
  },
  {
   "cell_type": "code",
   "execution_count": 13,
   "metadata": {},
   "outputs": [],
   "source": [
    "def checkwin(player1, player2, board):\n",
    "    '''\n",
    "    Checks if a winning condition exists. If so, returns true.\n",
    "    Input: Board (list)\n",
    "    Output: Boolean\n",
    "    '''\n",
    "    winconditions = [\"123\", \"456\", \"789\", \"147\", \"258\", \"369\", \"159\", \"357\"]\n",
    "    x = []\n",
    "    o = []\n",
    "\n",
    "    for i, elem in list(enumerate(board)):\n",
    "        if elem == \"X\":\n",
    "            x.append(str(i+1))\n",
    "        elif elem == \"O\":\n",
    "            o.append(str(i+1))\n",
    "\n",
    "    for combinations in winconditions:\n",
    "        if all(positions in x for positions in combinations):\n",
    "            print(f\"{str('Player 1') if player1=='X' else str('Player 2')} WINS\")\n",
    "            endgame()\n",
    "            break\n",
    "        elif all(positions in o for positions in combinations):\n",
    "            print(f\"{str('Player 1') if player1=='O' else str('Player 2')} WINS\")\n",
    "            endgame()\n",
    "            break"
   ]
  },
  {
   "cell_type": "code",
   "execution_count": 14,
   "metadata": {},
   "outputs": [],
   "source": [
    "def checkfull(board):\n",
    "    '''\n",
    "    Checks if board is full. If so, prompts user to restart the game.\n",
    "    Input: Board (list)\n",
    "    Output: None\n",
    "    '''\n",
    "    if \" \" not in board:\n",
    "        print(\"DRAW!\")\n",
    "        endgame()\n"
   ]
  },
  {
   "cell_type": "code",
   "execution_count": 15,
   "metadata": {},
   "outputs": [],
   "source": [
    "def endgame():\n",
    "    print(\"GAME IS OVER!\")\n",
    "    while(input(\"Press enter to restart game. \")):\n",
    "        pass\n",
    "    startgame()"
   ]
  },
  {
   "cell_type": "code",
   "execution_count": null,
   "metadata": {},
   "outputs": [],
   "source": []
  },
  {
   "cell_type": "code",
   "execution_count": null,
   "metadata": {},
   "outputs": [
    {
     "name": "stdout",
     "output_type": "stream",
     "text": [
      "\n",
      "   |   | O \n",
      "-----------\n",
      "   | X | O \n",
      "-----------\n",
      " X | X | O \n",
      "\n",
      "Player 2 WINS\n",
      "GAME IS OVER!\n"
     ]
    }
   ],
   "source": [
    "startgame()"
   ]
  },
  {
   "cell_type": "markdown",
   "metadata": {},
   "source": [
    "# TIC TAC TOE \n",
    "\n",
    "Position Numbers are as shown:\n",
    "\n",
    " 7 | 8 | 9\n",
    "\n",
    " 4 | 5 | 6\n",
    "\n",
    " 1 | 2 | 3 \n"
   ]
  },
  {
   "cell_type": "code",
   "execution_count": null,
   "metadata": {},
   "outputs": [],
   "source": []
  }
 ],
 "metadata": {
  "kernelspec": {
   "display_name": "Python 3",
   "language": "python",
   "name": "python3"
  },
  "language_info": {
   "codemirror_mode": {
    "name": "ipython",
    "version": 3
   },
   "file_extension": ".py",
   "mimetype": "text/x-python",
   "name": "python",
   "nbconvert_exporter": "python",
   "pygments_lexer": "ipython3",
   "version": "3.7.3"
  }
 },
 "nbformat": 4,
 "nbformat_minor": 2
}
